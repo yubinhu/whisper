{
 "cells": [
  {
   "cell_type": "code",
   "execution_count": 1,
   "metadata": {},
   "outputs": [
    {
     "name": "stdout",
     "output_type": "stream",
     "text": [
      "Special tokens have been added in the vocabulary, make sure the associated word embeddings are fine-tuned or trained.\n",
      "\u001b[2K🤗 \u001b[33mTranscribing...\u001b[0m \u001b[93m━\u001b[0m\u001b[93m━\u001b[0m\u001b[93m━\u001b[0m\u001b[93m━\u001b[0m\u001b[37m━\u001b[0m\u001b[37m━\u001b[0m\u001b[37m━\u001b[0m\u001b[37m━\u001b[0m\u001b[37m━\u001b[0m\u001b[37m━\u001b[0m\u001b[37m━\u001b[0m\u001b[93m━\u001b[0m\u001b[93m━\u001b[0m\u001b[93m━\u001b[0m\u001b[93m━\u001b[0m\u001b[93m━\u001b[0m\u001b[93m━\u001b[0m\u001b[93m━\u001b[0m\u001b[93m━\u001b[0m\u001b[93m━\u001b[0m\u001b[93m━\u001b[0m\u001b[93m━\u001b[0m\u001b[93m━\u001b[0m\u001b[93m━\u001b[0m\u001b[37m━\u001b[0m\u001b[37m━\u001b[0m\u001b[37m━\u001b[0m\u001b[37m━\u001b[0m\u001b[37m━\u001b[0m\u001b[37m━\u001b[0m\u001b[37m━\u001b[0m\u001b[93m━\u001b[0m\u001b[93m━\u001b[0m\u001b[93m━\u001b[0m\u001b[93m━\u001b[0m\u001b[93m━\u001b[0m\u001b[93m━\u001b[0m\u001b[93m━\u001b[0m\u001b[93m━\u001b[0m\u001b[93m━\u001b[0m \u001b[33m0:13:34\u001b[0m\n",
      "\u001b[?25hVoila! Your file has been transcribed go check it out over here! output.json\n"
     ]
    }
   ],
   "source": [
    "filename = \"10_2\"\n",
    "mp3file = filename + \".mp3\"\n",
    "!insanely-fast-whisper --file-name {mp3file} --device-id mps --model-name distil-whisper/large-v2 --batch-size 6"
   ]
  },
  {
   "cell_type": "code",
   "execution_count": 2,
   "metadata": {},
   "outputs": [],
   "source": [
    "import json\n",
    "\n",
    "with open(\"output.json\", \"r\") as file:\n",
    "    transcript_data = json.load(file)\n",
    "\n",
    "def convert_to_srt(transcript):\n",
    "    srt_content = \"\"\n",
    "    for i, chunk in enumerate(transcript['chunks'], start=1):\n",
    "        start_time = chunk['timestamp'][0]\n",
    "        end_time = chunk['timestamp'][1]\n",
    "        text = chunk['text']\n",
    "        \n",
    "        # Convert timestamp to SRT format (HH:MM:SS,MS)\n",
    "        start_srt = f\"{int(start_time // 3600):02d}:{int(start_time % 3600 // 60):02d}:{int(start_time % 60):02d},{int((start_time * 1000) % 1000):03d}\"\n",
    "        end_srt = f\"{int(end_time // 3600):02d}:{int(end_time % 3600 // 60):02d}:{int(end_time % 60):02d},{int((end_time * 1000) % 1000):03d}\"\n",
    "        \n",
    "        srt_content += f\"{i}\\n{start_srt} --> {end_srt}\\n{text}\\n\\n\"\n",
    "    \n",
    "    return srt_content\n",
    "\n",
    "# Convert to SRT format\n",
    "srt_data = convert_to_srt(transcript_data)\n",
    "\n",
    "# Output or save the SRT data\n",
    "# To save to a file, you could use:\n",
    "with open(f\"{filename}.srt\", \"w\") as file:\n",
    "    file.write(srt_data)\n"
   ]
  },
  {
   "cell_type": "code",
   "execution_count": null,
   "metadata": {},
   "outputs": [],
   "source": []
  }
 ],
 "metadata": {
  "kernelspec": {
   "display_name": "llm",
   "language": "python",
   "name": "python3"
  },
  "language_info": {
   "codemirror_mode": {
    "name": "ipython",
    "version": 3
   },
   "file_extension": ".py",
   "mimetype": "text/x-python",
   "name": "python",
   "nbconvert_exporter": "python",
   "pygments_lexer": "ipython3",
   "version": "3.11.7"
  }
 },
 "nbformat": 4,
 "nbformat_minor": 2
}
